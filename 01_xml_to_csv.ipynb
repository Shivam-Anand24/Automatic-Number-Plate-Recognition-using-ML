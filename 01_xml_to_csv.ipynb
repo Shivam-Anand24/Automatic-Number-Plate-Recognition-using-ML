{
 "cells": [
  {
   "cell_type": "code",
   "execution_count": 1,
   "id": "170a4dfc",
   "metadata": {},
   "outputs": [
    {
     "name": "stdout",
     "output_type": "stream",
     "text": [
      "[]\n"
     ]
    }
   ],
   "source": [
    "import pandas as pd\n",
    "import xml.etree.ElementTree as xet \n",
    "from glob import glob \n",
    "\n",
    "path = glob('./dataset/*.xml')\n",
    "print(path)"
   ]
  },
  {
   "cell_type": "code",
   "execution_count": 3,
   "id": "2f5e26b2",
   "metadata": {},
   "outputs": [
    {
     "name": "stdout",
     "output_type": "stream",
     "text": [
      "[]\n"
     ]
    }
   ],
   "source": [
    "import pandas as pd\n",
    "import xml.etree.ElementTree as xet \n",
    "from glob import glob \n",
    "\n",
    "path = glob('./Users/shiva/OneDrive/Desktop/anpr/dataset/*.xml')\n",
    "print(path)"
   ]
  },
  {
   "cell_type": "code",
   "execution_count": 4,
   "id": "d4e38c80",
   "metadata": {},
   "outputs": [
    {
     "name": "stdout",
     "output_type": "stream",
     "text": [
      "[]\n"
     ]
    }
   ],
   "source": [
    "import pandas as pd\n",
    "import xml.etree.ElementTree as xet \n",
    "from glob import glob \n",
    "\n",
    "path = glob('./Users/shiva/OneDrive/Desktop/anpr/dataset/*.xml')\n",
    "print(path)"
   ]
  },
  {
   "cell_type": "code",
   "execution_count": 5,
   "id": "2882c6b2",
   "metadata": {},
   "outputs": [
    {
     "name": "stdout",
     "output_type": "stream",
     "text": [
      "['C:/Users/shiva/OneDrive/Desktop/anpr/dataset\\\\1.xml', 'C:/Users/shiva/OneDrive/Desktop/anpr/dataset\\\\10.xml', 'C:/Users/shiva/OneDrive/Desktop/anpr/dataset\\\\100.xml', 'C:/Users/shiva/OneDrive/Desktop/anpr/dataset\\\\101.xml', 'C:/Users/shiva/OneDrive/Desktop/anpr/dataset\\\\102.xml', 'C:/Users/shiva/OneDrive/Desktop/anpr/dataset\\\\103.xml', 'C:/Users/shiva/OneDrive/Desktop/anpr/dataset\\\\104.xml', 'C:/Users/shiva/OneDrive/Desktop/anpr/dataset\\\\105.xml', 'C:/Users/shiva/OneDrive/Desktop/anpr/dataset\\\\106.xml', 'C:/Users/shiva/OneDrive/Desktop/anpr/dataset\\\\107.xml', 'C:/Users/shiva/OneDrive/Desktop/anpr/dataset\\\\108.xml', 'C:/Users/shiva/OneDrive/Desktop/anpr/dataset\\\\109.xml', 'C:/Users/shiva/OneDrive/Desktop/anpr/dataset\\\\11.xml', 'C:/Users/shiva/OneDrive/Desktop/anpr/dataset\\\\110.xml', 'C:/Users/shiva/OneDrive/Desktop/anpr/dataset\\\\111.xml', 'C:/Users/shiva/OneDrive/Desktop/anpr/dataset\\\\112.xml', 'C:/Users/shiva/OneDrive/Desktop/anpr/dataset\\\\113.xml', 'C:/Users/shiva/OneDrive/Desktop/anpr/dataset\\\\114.xml', 'C:/Users/shiva/OneDrive/Desktop/anpr/dataset\\\\115.xml', 'C:/Users/shiva/OneDrive/Desktop/anpr/dataset\\\\116.xml', 'C:/Users/shiva/OneDrive/Desktop/anpr/dataset\\\\117.xml', 'C:/Users/shiva/OneDrive/Desktop/anpr/dataset\\\\118.xml', 'C:/Users/shiva/OneDrive/Desktop/anpr/dataset\\\\119.xml', 'C:/Users/shiva/OneDrive/Desktop/anpr/dataset\\\\12.xml', 'C:/Users/shiva/OneDrive/Desktop/anpr/dataset\\\\120.xml', 'C:/Users/shiva/OneDrive/Desktop/anpr/dataset\\\\121.xml', 'C:/Users/shiva/OneDrive/Desktop/anpr/dataset\\\\122.xml', 'C:/Users/shiva/OneDrive/Desktop/anpr/dataset\\\\123.xml', 'C:/Users/shiva/OneDrive/Desktop/anpr/dataset\\\\124.xml', 'C:/Users/shiva/OneDrive/Desktop/anpr/dataset\\\\125.xml', 'C:/Users/shiva/OneDrive/Desktop/anpr/dataset\\\\126.xml', 'C:/Users/shiva/OneDrive/Desktop/anpr/dataset\\\\127.xml', 'C:/Users/shiva/OneDrive/Desktop/anpr/dataset\\\\128.xml', 'C:/Users/shiva/OneDrive/Desktop/anpr/dataset\\\\129.xml', 'C:/Users/shiva/OneDrive/Desktop/anpr/dataset\\\\13.xml', 'C:/Users/shiva/OneDrive/Desktop/anpr/dataset\\\\130.xml', 'C:/Users/shiva/OneDrive/Desktop/anpr/dataset\\\\131.xml', 'C:/Users/shiva/OneDrive/Desktop/anpr/dataset\\\\132.xml', 'C:/Users/shiva/OneDrive/Desktop/anpr/dataset\\\\133.xml', 'C:/Users/shiva/OneDrive/Desktop/anpr/dataset\\\\134.xml', 'C:/Users/shiva/OneDrive/Desktop/anpr/dataset\\\\135.xml', 'C:/Users/shiva/OneDrive/Desktop/anpr/dataset\\\\136.xml', 'C:/Users/shiva/OneDrive/Desktop/anpr/dataset\\\\14.xml', 'C:/Users/shiva/OneDrive/Desktop/anpr/dataset\\\\15.xml', 'C:/Users/shiva/OneDrive/Desktop/anpr/dataset\\\\16.xml', 'C:/Users/shiva/OneDrive/Desktop/anpr/dataset\\\\17.xml', 'C:/Users/shiva/OneDrive/Desktop/anpr/dataset\\\\18.xml', 'C:/Users/shiva/OneDrive/Desktop/anpr/dataset\\\\19.xml', 'C:/Users/shiva/OneDrive/Desktop/anpr/dataset\\\\2.xml', 'C:/Users/shiva/OneDrive/Desktop/anpr/dataset\\\\20.xml', 'C:/Users/shiva/OneDrive/Desktop/anpr/dataset\\\\21.xml', 'C:/Users/shiva/OneDrive/Desktop/anpr/dataset\\\\22.xml', 'C:/Users/shiva/OneDrive/Desktop/anpr/dataset\\\\23.xml', 'C:/Users/shiva/OneDrive/Desktop/anpr/dataset\\\\24.xml', 'C:/Users/shiva/OneDrive/Desktop/anpr/dataset\\\\25.xml', 'C:/Users/shiva/OneDrive/Desktop/anpr/dataset\\\\26.xml', 'C:/Users/shiva/OneDrive/Desktop/anpr/dataset\\\\27.xml', 'C:/Users/shiva/OneDrive/Desktop/anpr/dataset\\\\28.xml', 'C:/Users/shiva/OneDrive/Desktop/anpr/dataset\\\\29.xml', 'C:/Users/shiva/OneDrive/Desktop/anpr/dataset\\\\3.xml', 'C:/Users/shiva/OneDrive/Desktop/anpr/dataset\\\\30.xml', 'C:/Users/shiva/OneDrive/Desktop/anpr/dataset\\\\31.xml', 'C:/Users/shiva/OneDrive/Desktop/anpr/dataset\\\\32.xml', 'C:/Users/shiva/OneDrive/Desktop/anpr/dataset\\\\33.xml', 'C:/Users/shiva/OneDrive/Desktop/anpr/dataset\\\\34.xml', 'C:/Users/shiva/OneDrive/Desktop/anpr/dataset\\\\35.xml', 'C:/Users/shiva/OneDrive/Desktop/anpr/dataset\\\\36.xml', 'C:/Users/shiva/OneDrive/Desktop/anpr/dataset\\\\37.xml', 'C:/Users/shiva/OneDrive/Desktop/anpr/dataset\\\\38.xml', 'C:/Users/shiva/OneDrive/Desktop/anpr/dataset\\\\39.xml', 'C:/Users/shiva/OneDrive/Desktop/anpr/dataset\\\\4.xml', 'C:/Users/shiva/OneDrive/Desktop/anpr/dataset\\\\40.xml', 'C:/Users/shiva/OneDrive/Desktop/anpr/dataset\\\\41.xml', 'C:/Users/shiva/OneDrive/Desktop/anpr/dataset\\\\42.xml', 'C:/Users/shiva/OneDrive/Desktop/anpr/dataset\\\\43.xml', 'C:/Users/shiva/OneDrive/Desktop/anpr/dataset\\\\44.xml', 'C:/Users/shiva/OneDrive/Desktop/anpr/dataset\\\\45.xml', 'C:/Users/shiva/OneDrive/Desktop/anpr/dataset\\\\46.xml', 'C:/Users/shiva/OneDrive/Desktop/anpr/dataset\\\\47.xml', 'C:/Users/shiva/OneDrive/Desktop/anpr/dataset\\\\48.xml', 'C:/Users/shiva/OneDrive/Desktop/anpr/dataset\\\\49.xml', 'C:/Users/shiva/OneDrive/Desktop/anpr/dataset\\\\5.xml', 'C:/Users/shiva/OneDrive/Desktop/anpr/dataset\\\\50.xml', 'C:/Users/shiva/OneDrive/Desktop/anpr/dataset\\\\51.xml', 'C:/Users/shiva/OneDrive/Desktop/anpr/dataset\\\\52.xml', 'C:/Users/shiva/OneDrive/Desktop/anpr/dataset\\\\53.xml', 'C:/Users/shiva/OneDrive/Desktop/anpr/dataset\\\\54.xml', 'C:/Users/shiva/OneDrive/Desktop/anpr/dataset\\\\55.xml', 'C:/Users/shiva/OneDrive/Desktop/anpr/dataset\\\\56.xml', 'C:/Users/shiva/OneDrive/Desktop/anpr/dataset\\\\57.xml', 'C:/Users/shiva/OneDrive/Desktop/anpr/dataset\\\\58.xml', 'C:/Users/shiva/OneDrive/Desktop/anpr/dataset\\\\59.xml', 'C:/Users/shiva/OneDrive/Desktop/anpr/dataset\\\\6.xml', 'C:/Users/shiva/OneDrive/Desktop/anpr/dataset\\\\60.xml', 'C:/Users/shiva/OneDrive/Desktop/anpr/dataset\\\\61.xml', 'C:/Users/shiva/OneDrive/Desktop/anpr/dataset\\\\62.xml', 'C:/Users/shiva/OneDrive/Desktop/anpr/dataset\\\\63.xml', 'C:/Users/shiva/OneDrive/Desktop/anpr/dataset\\\\64.xml', 'C:/Users/shiva/OneDrive/Desktop/anpr/dataset\\\\65.xml', 'C:/Users/shiva/OneDrive/Desktop/anpr/dataset\\\\66.xml', 'C:/Users/shiva/OneDrive/Desktop/anpr/dataset\\\\67.xml', 'C:/Users/shiva/OneDrive/Desktop/anpr/dataset\\\\68.xml', 'C:/Users/shiva/OneDrive/Desktop/anpr/dataset\\\\69.xml', 'C:/Users/shiva/OneDrive/Desktop/anpr/dataset\\\\7.xml', 'C:/Users/shiva/OneDrive/Desktop/anpr/dataset\\\\70.xml', 'C:/Users/shiva/OneDrive/Desktop/anpr/dataset\\\\71.xml', 'C:/Users/shiva/OneDrive/Desktop/anpr/dataset\\\\72.xml', 'C:/Users/shiva/OneDrive/Desktop/anpr/dataset\\\\73.xml', 'C:/Users/shiva/OneDrive/Desktop/anpr/dataset\\\\74.xml', 'C:/Users/shiva/OneDrive/Desktop/anpr/dataset\\\\75.xml', 'C:/Users/shiva/OneDrive/Desktop/anpr/dataset\\\\76.xml', 'C:/Users/shiva/OneDrive/Desktop/anpr/dataset\\\\77.xml', 'C:/Users/shiva/OneDrive/Desktop/anpr/dataset\\\\78.xml', 'C:/Users/shiva/OneDrive/Desktop/anpr/dataset\\\\79.xml', 'C:/Users/shiva/OneDrive/Desktop/anpr/dataset\\\\8.xml', 'C:/Users/shiva/OneDrive/Desktop/anpr/dataset\\\\80.xml', 'C:/Users/shiva/OneDrive/Desktop/anpr/dataset\\\\81.xml', 'C:/Users/shiva/OneDrive/Desktop/anpr/dataset\\\\82.xml', 'C:/Users/shiva/OneDrive/Desktop/anpr/dataset\\\\83.xml', 'C:/Users/shiva/OneDrive/Desktop/anpr/dataset\\\\84.xml', 'C:/Users/shiva/OneDrive/Desktop/anpr/dataset\\\\85.xml', 'C:/Users/shiva/OneDrive/Desktop/anpr/dataset\\\\86.xml', 'C:/Users/shiva/OneDrive/Desktop/anpr/dataset\\\\87.xml', 'C:/Users/shiva/OneDrive/Desktop/anpr/dataset\\\\88.xml', 'C:/Users/shiva/OneDrive/Desktop/anpr/dataset\\\\89.xml', 'C:/Users/shiva/OneDrive/Desktop/anpr/dataset\\\\9.xml', 'C:/Users/shiva/OneDrive/Desktop/anpr/dataset\\\\90.xml', 'C:/Users/shiva/OneDrive/Desktop/anpr/dataset\\\\91.xml', 'C:/Users/shiva/OneDrive/Desktop/anpr/dataset\\\\92.xml', 'C:/Users/shiva/OneDrive/Desktop/anpr/dataset\\\\93.xml', 'C:/Users/shiva/OneDrive/Desktop/anpr/dataset\\\\94.xml', 'C:/Users/shiva/OneDrive/Desktop/anpr/dataset\\\\95.xml', 'C:/Users/shiva/OneDrive/Desktop/anpr/dataset\\\\96.xml', 'C:/Users/shiva/OneDrive/Desktop/anpr/dataset\\\\97.xml', 'C:/Users/shiva/OneDrive/Desktop/anpr/dataset\\\\98.xml', 'C:/Users/shiva/OneDrive/Desktop/anpr/dataset\\\\99.xml']\n"
     ]
    }
   ],
   "source": [
    "import pandas as pd\n",
    "import xml.etree.ElementTree as xet \n",
    "from glob import glob \n",
    "\n",
    "path = glob('C:/Users/shiva/OneDrive/Desktop/anpr/dataset/*.xml')\n",
    "print(path)"
   ]
  },
  {
   "cell_type": "code",
   "execution_count": 7,
   "id": "d3f976c2",
   "metadata": {},
   "outputs": [],
   "source": [
    "labels_dict = dict(filepath=[],xmin=[],xmax=[],ymin=[],ymax=[])\n",
    "for filename in path:\n",
    "\n",
    "     #filename path[0]\n",
    "     info = xet.parse(filename)\n",
    "     root = info.getroot()\n",
    "     member_object = root.find('object')\n",
    "     labels_info = member_object.find('bndbox') \n",
    "     xmin = int(labels_info.find('xmin').text)\n",
    "     xmax = int(labels_info.find('xmax').text)\n",
    "     ymin = int(labels_info.find('ymin').text)\n",
    "     ymax = int(labels_info.find('ymax').text)\n",
    "     #print (xwin, cx, yn, max)\n",
    "     labels_dict['filepath'].append(filename)\n",
    "     labels_dict[\"xmin\"].append(xmin)\n",
    "     labels_dict[\"xmax\"].append(xmax)\n",
    "     labels_dict[\"ymin\"].append(ymin)\n",
    "     labels_dict[\"ymax\"].append(ymax)"
   ]
  },
  {
   "cell_type": "code",
   "execution_count": 8,
   "id": "d01addbb",
   "metadata": {},
   "outputs": [
    {
     "name": "stdout",
     "output_type": "stream",
     "text": [
      "                                              filepath  xmin  xmax  ymin  ymax\n",
      "0    C:/Users/shiva/OneDrive/Desktop/anpr/dataset\\1...  1043  1120   388   447\n",
      "1    C:/Users/shiva/OneDrive/Desktop/anpr/dataset\\1...  1088  1154   573   610\n",
      "2    C:/Users/shiva/OneDrive/Desktop/anpr/dataset\\1...   492   549   349   379\n",
      "3    C:/Users/shiva/OneDrive/Desktop/anpr/dataset\\1...   710   767   287   315\n",
      "4    C:/Users/shiva/OneDrive/Desktop/anpr/dataset\\1...  1054  1109   413   448\n",
      "..                                                 ...   ...   ...   ...   ...\n",
      "131  C:/Users/shiva/OneDrive/Desktop/anpr/dataset\\9...   210   271   295   329\n",
      "132  C:/Users/shiva/OneDrive/Desktop/anpr/dataset\\9...   481   537   356   384\n",
      "133  C:/Users/shiva/OneDrive/Desktop/anpr/dataset\\9...   664   721   284   316\n",
      "134  C:/Users/shiva/OneDrive/Desktop/anpr/dataset\\9...    39    95   356   385\n",
      "135  C:/Users/shiva/OneDrive/Desktop/anpr/dataset\\9...   965  1045   647   682\n",
      "\n",
      "[136 rows x 5 columns]\n"
     ]
    }
   ],
   "source": [
    "labels_dict = {\n",
    "    'filepath': [],\n",
    "    'xmin': [],\n",
    "    'xmax': [],\n",
    "    'ymin': [],\n",
    "    'ymax': []\n",
    "}\n",
    "\n",
    "for filename in path:\n",
    "    info = xet.parse(filename)\n",
    "    root = info.getroot()\n",
    "    member_object = root.find('object')\n",
    "    labels_info = member_object.find('bndbox') \n",
    "    xmin = int(labels_info.find('xmin').text)\n",
    "    xmax = int(labels_info.find('xmax').text)\n",
    "    ymin = int(labels_info.find('ymin').text)\n",
    "    ymax = int(labels_info.find('ymax').text)\n",
    "    \n",
    "    labels_dict['filepath'].append(filename)\n",
    "    labels_dict['xmin'].append(xmin)\n",
    "    labels_dict['xmax'].append(xmax)\n",
    "    labels_dict['ymin'].append(ymin)\n",
    "    labels_dict['ymax'].append(ymax)\n",
    "\n",
    "# Create a DataFrame from the labels_dict\n",
    "labels_df = pd.DataFrame(labels_dict)\n",
    "\n",
    "# Display the DataFrame\n",
    "print(labels_df)"
   ]
  },
  {
   "cell_type": "code",
   "execution_count": 10,
   "id": "a9a5d411",
   "metadata": {},
   "outputs": [
    {
     "name": "stdout",
     "output_type": "stream",
     "text": [
      "Bounding box data saved to bounding_boxes.csv\n"
     ]
    }
   ],
   "source": [
    "csv_filename = 'bounding_boxes.csv'\n",
    "labels_df.to_csv(csv_filename, index=False)\n",
    "\n",
    "print(f'Bounding box data saved to {csv_filename}')"
   ]
  },
  {
   "cell_type": "code",
   "execution_count": null,
   "id": "250b1d5c",
   "metadata": {},
   "outputs": [],
   "source": []
  }
 ],
 "metadata": {
  "kernelspec": {
   "display_name": "Python 3 (ipykernel)",
   "language": "python",
   "name": "python3"
  },
  "language_info": {
   "codemirror_mode": {
    "name": "ipython",
    "version": 3
   },
   "file_extension": ".py",
   "mimetype": "text/x-python",
   "name": "python",
   "nbconvert_exporter": "python",
   "pygments_lexer": "ipython3",
   "version": "3.11.4"
  }
 },
 "nbformat": 4,
 "nbformat_minor": 5
}
